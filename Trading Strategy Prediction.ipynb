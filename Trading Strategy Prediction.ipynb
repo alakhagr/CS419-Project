{
 "cells": [
  {
   "cell_type": "code",
   "execution_count": null,
   "id": "a4ad3ccf",
   "metadata": {},
   "outputs": [],
   "source": [
    "pip install xgboost==0.90"
   ]
  },
  {
   "cell_type": "code",
   "execution_count": 2,
   "id": "655dc33b",
   "metadata": {},
   "outputs": [],
   "source": [
    "from numpy import loadtxt\n",
    "import pandas as pd\n",
    "import matplotlib as plt\n",
    "import requests,json\n",
    "from xgboost import XGBClassifier\n",
    "from sklearn.model_selection import train_test_split\n",
    "from sklearn.metrics import accuracy_score"
   ]
  },
  {
   "cell_type": "code",
   "execution_count": 4,
   "id": "1d8b42f6",
   "metadata": {},
   "outputs": [],
   "source": [
    "data_read = pd.read_csv('XBTUSD-1h-data.csv')\n",
    "data = pd.DataFrame(data_read)"
   ]
  },
  {
   "cell_type": "code",
   "execution_count": null,
   "id": "4befaf04",
   "metadata": {},
   "outputs": [],
   "source": [
    "data.tail()"
   ]
  },
  {
   "cell_type": "code",
   "execution_count": null,
   "id": "2c4bce2b",
   "metadata": {},
   "outputs": [],
   "source": [
    "Y = []\n",
    "for i in range(0, len(dataset['timestamp'])-1): \n",
    "    if dataset['open'][i+1]>dataset['close'][i]:\n",
    "        Y.append(1)\n",
    "    else: Y.append(0)\n",
    "Y.append(1)"
   ]
  },
  {
   "cell_type": "code",
   "execution_count": null,
   "id": "4717a2ed",
   "metadata": {},
   "outputs": [],
   "source": [
    "# load data\n",
    "dataset = data\n",
    "# split data into X and y\n",
    "train_len = int(0.8*len(dataset['timestamp']))\n",
    "X_train = dataset[:train_len]\n",
    "Y_train = Y[:train_len]\n",
    "X_test = dataset[train_len:]\n",
    "Y_test = Y[train_len:]"
   ]
  },
  {
   "cell_type": "code",
   "execution_count": null,
   "id": "53a8b48a",
   "metadata": {},
   "outputs": [],
   "source": [
    "X1_train = X_train.drop(labels=['timestamp', 'symbol', 'trades', 'volume', 'vwap', 'lastSize', 'turnover', 'homeNotional', 'foreignNotional'], axis=1)\n",
    "X1_test = X_test.drop(labels=['timestamp', 'symbol', 'trades', 'volume', 'vwap', 'lastSize', 'turnover', 'homeNotional', 'foreignNotional'], axis=1)"
   ]
  },
  {
   "cell_type": "code",
   "execution_count": null,
   "id": "59b18894",
   "metadata": {},
   "outputs": [],
   "source": [
    "for label in ['open', 'close', 'high', 'low']:\n",
    "    X1_train[label] = pd.to_numeric(X1_train[label])\n",
    "for label in ['open', 'close', 'high', 'low']:\n",
    "    X1_test[label] = pd.to_numeric(X1_test[label])"
   ]
  },
  {
   "cell_type": "code",
   "execution_count": null,
   "id": "4bcaa685",
   "metadata": {},
   "outputs": [],
   "source": [
    "normalized_X1_train=(X1_train-X1_train.min())/X1_train.std()\n",
    "normalized_X1_test=(X1_test-X1_test.min())/X1_test.std()"
   ]
  },
  {
   "cell_type": "code",
   "execution_count": null,
   "id": "c830fec2",
   "metadata": {},
   "outputs": [],
   "source": [
    "# split data into train and test sets\n",
    "#seed = 7\n",
    "#test_size = 0.33\n",
    "#X_train, X_test = train_test_split(normalized_X1, test_size=test_size, random_state=seed)\n",
    "#y_train, y_test = train_test_split(normalized_Y1, test_size=test_size, random_state=seed)\n",
    "# fit model no training data\n",
    "model = XGBClassifier()\n",
    "model.fit(X1_train, Y_train)\n",
    "# make predictions for test data\n",
    "y_pred = model.predict(X1_test)\n",
    "predictions = [round(value) for value in y_pred]\n",
    "# evaluate predictions\n",
    "accuracy = accuracy_score(Y_test, predictions)\n",
    "print(\"Accuracy: %.2f%%\" % (accuracy * 100.0))"
   ]
  }
 ],
 "metadata": {
  "kernelspec": {
   "display_name": "Python 3",
   "language": "python",
   "name": "python3"
  },
  "language_info": {
   "codemirror_mode": {
    "name": "ipython",
    "version": 3
   },
   "file_extension": ".py",
   "mimetype": "text/x-python",
   "name": "python",
   "nbconvert_exporter": "python",
   "pygments_lexer": "ipython3",
   "version": "3.8.8"
  }
 },
 "nbformat": 4,
 "nbformat_minor": 5
}
